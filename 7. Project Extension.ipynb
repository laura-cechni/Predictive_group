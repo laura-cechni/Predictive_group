{
 "cells": [
  {
   "cell_type": "code",
   "execution_count": 18,
   "id": "632f1296-a795-42bf-88f9-363cc778598c",
   "metadata": {},
   "outputs": [],
   "source": [
    "import requests\n",
    "import json\n",
    "import numpy as np\n",
    "from IPython.display import Markdown, display\n",
    "import pandas as pd\n",
    "import re\n",
    "import json\n",
    "from datetime import datetime, timedelta"
   ]
  },
  {
   "cell_type": "code",
   "execution_count": 19,
   "id": "c55c3e78-3483-4ef9-b197-93baa20d62dd",
   "metadata": {},
   "outputs": [],
   "source": [
    "api_key='-Y83kwbfpZfHUQ_qtwp9dDFKZibNuaL879AAaANbf_E'"
   ]
  },
  {
   "cell_type": "code",
   "execution_count": 167,
   "id": "c2e1f7d1-00b3-4fb8-b357-dbe1f419eff6",
   "metadata": {},
   "outputs": [],
   "source": [
    "def get_resp_oai(input_text, model):\n",
    "    url = \"https://llm.api.ai8.io/query_llm\"\n",
    "    data = {\n",
    "        # Specify the model that you want to use\n",
    "        \"model\": model,\n",
    "        \"messages\": [\n",
    "                    {\"role\": \"system\", \"content\": \"You act as a highly intelligent recommendation system. Your job is to analyse the user and movie data and rank the top 20 candidate movies to the user is most likely to watch next based on their historical data provided and the last movie the user has watched.\"},\n",
    "                    {\"role\": \"user\", \"content\": input_text}\n",
    "        ]\n",
    "    }\n",
    "    headers = {'Authorization': api_key}\n",
    "    response = requests.post(url, json=data, headers=headers)\n",
    "    if response.status_code == 200:\n",
    "        response_data = json.loads(response.content)\n",
    "        model_response = extract_message_oai(response_data)\n",
    "        return model_response\n",
    "    else:\n",
    "        return {\"statusCode\": response.status_code, \"body\": response.content}\n",
    "\n",
    "def extract_message_oai(response_data):\n",
    "    message_content = response_data.get(\"choices\", [])[0].get(\"message\", {}).get(\"content\", \"\")\n",
    "    # format the extracted message as markdown\n",
    "    markdown_content = \"---\\n\\n\" + message_content + \"\\n\\n---\"\n",
    "    return markdown_content"
   ]
  },
  {
   "cell_type": "code",
   "execution_count": 31,
   "id": "9c98c67f-a81c-499c-8742-5dcbc8c83484",
   "metadata": {},
   "outputs": [],
   "source": [
    "# function to convert response string into an executable format: prompt 3, 5\n",
    "def formatter(resp_str):\n",
    "    return f\"Can you transform this string: {resp_str} into an executable string by extracting the python code and keeping the rest of the information as comments? Please place comment symbols where nessesary and keep in mind that the given response string will be executed in a python code chunk using the function :'exec(given_response_string).\""
   ]
  },
  {
   "cell_type": "code",
   "execution_count": 28,
   "id": "1c4a5719-810d-4c95-bb56-8847f03ab8fa",
   "metadata": {},
   "outputs": [],
   "source": [
    "# function to prompt the model for error resolution purposes given the error encountered and previous response as inputs: prompt 2,4\n",
    "def prompt_error(prev_response, err):\n",
    "    return f\"Given that the code you provided: {prev_response} gives this error: {err}, help me resolve it by changing the code you provided where nessesary, your reposne should be in an executable code format\""
   ]
  },
  {
   "cell_type": "code",
   "execution_count": 21,
   "id": "359997a5-f4dc-44ed-af3e-a378dd6f41e9",
   "metadata": {},
   "outputs": [
    {
     "data": {
      "text/html": [
       "<div>\n",
       "<style scoped>\n",
       "    .dataframe tbody tr th:only-of-type {\n",
       "        vertical-align: middle;\n",
       "    }\n",
       "\n",
       "    .dataframe tbody tr th {\n",
       "        vertical-align: top;\n",
       "    }\n",
       "\n",
       "    .dataframe thead th {\n",
       "        text-align: right;\n",
       "    }\n",
       "</style>\n",
       "<table border=\"1\" class=\"dataframe\">\n",
       "  <thead>\n",
       "    <tr style=\"text-align: right;\">\n",
       "      <th></th>\n",
       "      <th>name</th>\n",
       "      <th>rating</th>\n",
       "      <th>genre</th>\n",
       "      <th>year</th>\n",
       "      <th>released</th>\n",
       "      <th>score</th>\n",
       "      <th>votes</th>\n",
       "      <th>director</th>\n",
       "      <th>writer</th>\n",
       "      <th>star</th>\n",
       "      <th>country</th>\n",
       "      <th>budget</th>\n",
       "      <th>gross</th>\n",
       "      <th>company</th>\n",
       "      <th>runtime</th>\n",
       "    </tr>\n",
       "  </thead>\n",
       "  <tbody>\n",
       "    <tr>\n",
       "      <th>0</th>\n",
       "      <td>The Shining</td>\n",
       "      <td>R</td>\n",
       "      <td>Drama</td>\n",
       "      <td>1980</td>\n",
       "      <td>June 13, 1980 (United States)</td>\n",
       "      <td>8.4</td>\n",
       "      <td>927000.0</td>\n",
       "      <td>Stanley Kubrick</td>\n",
       "      <td>Stephen King</td>\n",
       "      <td>Jack Nicholson</td>\n",
       "      <td>United Kingdom</td>\n",
       "      <td>19000000.0</td>\n",
       "      <td>46998772.0</td>\n",
       "      <td>Warner Bros.</td>\n",
       "      <td>146.0</td>\n",
       "    </tr>\n",
       "    <tr>\n",
       "      <th>1</th>\n",
       "      <td>The Blue Lagoon</td>\n",
       "      <td>R</td>\n",
       "      <td>Adventure</td>\n",
       "      <td>1980</td>\n",
       "      <td>July 2, 1980 (United States)</td>\n",
       "      <td>5.8</td>\n",
       "      <td>65000.0</td>\n",
       "      <td>Randal Kleiser</td>\n",
       "      <td>Henry De Vere Stacpoole</td>\n",
       "      <td>Brooke Shields</td>\n",
       "      <td>United States</td>\n",
       "      <td>4500000.0</td>\n",
       "      <td>58853106.0</td>\n",
       "      <td>Columbia Pictures</td>\n",
       "      <td>104.0</td>\n",
       "    </tr>\n",
       "    <tr>\n",
       "      <th>2</th>\n",
       "      <td>Star Wars: Episode V - The Empire Strikes Back</td>\n",
       "      <td>PG</td>\n",
       "      <td>Action</td>\n",
       "      <td>1980</td>\n",
       "      <td>June 20, 1980 (United States)</td>\n",
       "      <td>8.7</td>\n",
       "      <td>1200000.0</td>\n",
       "      <td>Irvin Kershner</td>\n",
       "      <td>Leigh Brackett</td>\n",
       "      <td>Mark Hamill</td>\n",
       "      <td>United States</td>\n",
       "      <td>18000000.0</td>\n",
       "      <td>538375067.0</td>\n",
       "      <td>Lucasfilm</td>\n",
       "      <td>124.0</td>\n",
       "    </tr>\n",
       "    <tr>\n",
       "      <th>3</th>\n",
       "      <td>Airplane!</td>\n",
       "      <td>PG</td>\n",
       "      <td>Comedy</td>\n",
       "      <td>1980</td>\n",
       "      <td>July 2, 1980 (United States)</td>\n",
       "      <td>7.7</td>\n",
       "      <td>221000.0</td>\n",
       "      <td>Jim Abrahams</td>\n",
       "      <td>Jim Abrahams</td>\n",
       "      <td>Robert Hays</td>\n",
       "      <td>United States</td>\n",
       "      <td>3500000.0</td>\n",
       "      <td>83453539.0</td>\n",
       "      <td>Paramount Pictures</td>\n",
       "      <td>88.0</td>\n",
       "    </tr>\n",
       "    <tr>\n",
       "      <th>4</th>\n",
       "      <td>Caddyshack</td>\n",
       "      <td>R</td>\n",
       "      <td>Comedy</td>\n",
       "      <td>1980</td>\n",
       "      <td>July 25, 1980 (United States)</td>\n",
       "      <td>7.3</td>\n",
       "      <td>108000.0</td>\n",
       "      <td>Harold Ramis</td>\n",
       "      <td>Brian Doyle-Murray</td>\n",
       "      <td>Chevy Chase</td>\n",
       "      <td>United States</td>\n",
       "      <td>6000000.0</td>\n",
       "      <td>39846344.0</td>\n",
       "      <td>Orion Pictures</td>\n",
       "      <td>98.0</td>\n",
       "    </tr>\n",
       "  </tbody>\n",
       "</table>\n",
       "</div>"
      ],
      "text/plain": [
       "                                             name rating      genre  year  \\\n",
       "0                                     The Shining      R      Drama  1980   \n",
       "1                                 The Blue Lagoon      R  Adventure  1980   \n",
       "2  Star Wars: Episode V - The Empire Strikes Back     PG     Action  1980   \n",
       "3                                       Airplane!     PG     Comedy  1980   \n",
       "4                                      Caddyshack      R     Comedy  1980   \n",
       "\n",
       "                        released  score      votes         director  \\\n",
       "0  June 13, 1980 (United States)    8.4   927000.0  Stanley Kubrick   \n",
       "1   July 2, 1980 (United States)    5.8    65000.0   Randal Kleiser   \n",
       "2  June 20, 1980 (United States)    8.7  1200000.0   Irvin Kershner   \n",
       "3   July 2, 1980 (United States)    7.7   221000.0     Jim Abrahams   \n",
       "4  July 25, 1980 (United States)    7.3   108000.0     Harold Ramis   \n",
       "\n",
       "                    writer            star         country      budget  \\\n",
       "0             Stephen King  Jack Nicholson  United Kingdom  19000000.0   \n",
       "1  Henry De Vere Stacpoole  Brooke Shields   United States   4500000.0   \n",
       "2           Leigh Brackett     Mark Hamill   United States  18000000.0   \n",
       "3             Jim Abrahams     Robert Hays   United States   3500000.0   \n",
       "4       Brian Doyle-Murray     Chevy Chase   United States   6000000.0   \n",
       "\n",
       "         gross             company  runtime  \n",
       "0   46998772.0        Warner Bros.    146.0  \n",
       "1   58853106.0   Columbia Pictures    104.0  \n",
       "2  538375067.0           Lucasfilm    124.0  \n",
       "3   83453539.0  Paramount Pictures     88.0  \n",
       "4   39846344.0      Orion Pictures     98.0  "
      ]
     },
     "execution_count": 21,
     "metadata": {},
     "output_type": "execute_result"
    }
   ],
   "source": [
    "movies = pd.read_csv('./movies.csv')\n",
    "movies.head()"
   ]
  },
  {
   "cell_type": "code",
   "execution_count": 148,
   "id": "5707c72b-b9ab-4247-9a95-28697c4edd49",
   "metadata": {},
   "outputs": [],
   "source": [
    "top_50_best_movies = movies.sort_values(by=['votes'], ascending=False)\n",
    "top_50_best_movies = top_50_best_movies.head(50).rename(columns={\"name\":\"movie_name\"}).to_dict(orient=\"index\")\n",
    "# top_50_best_movies = extract_movie_names(top_50_best_movies)\n",
    "top_50_best_movies = top_50_best_movies.values()\n",
    "# top_50_best_movies"
   ]
  },
  {
   "cell_type": "markdown",
   "id": "1b87a85f-9dbb-4aec-a70e-04ec1e04ca0b",
   "metadata": {},
   "source": [
    "Multi-Shot Chain of Thought Prompts"
   ]
  },
  {
   "cell_type": "code",
   "execution_count": 17,
   "id": "c3ff4cb3-1213-4580-b197-db2fe6a1a549",
   "metadata": {},
   "outputs": [],
   "source": [
    "def step_1():\n",
    "    return \"Firstly, we need a Python function that generates a synthetic dataset of user interactions with movies? It should take a DataFrame containing movie data as input and optionally allow specifying the number of users. The generated dataset should include user IDs, movie names, ratings, the number of times each movie was watched, and the dates on which the movies were watched.\""
   ]
  },
  {
   "cell_type": "code",
   "execution_count": 52,
   "id": "bd28db20-3493-4245-8a77-2a83ecc301cf",
   "metadata": {},
   "outputs": [],
   "source": [
    "def step_2():\n",
    "    return f\"Given your revious response{msg_11}, Then, think about generating the user interaction dataset with the function you designed and merging it with a movies dataset based on the movie title, the movie dataset can be acessed though this path {'./movies.csv'} the goal is to combine the two datasets so that we have additional information about each movie, such as genre, release year, etc., associated with the user interactions. Please ensure that the merge operation is performed correctly based on the movie title.\""
   ]
  },
  {
   "cell_type": "code",
   "execution_count": 44,
   "id": "9b42d68f-3d5a-4b41-be25-5b0e17ad2166",
   "metadata": {},
   "outputs": [],
   "source": [
    "def step_3():\n",
    "    return f\"Given your previous reponse{msg_22}, Afterwards as a third step, we need to create a function that retrieves all data associated with a particular user ID from a DataFrame containing user interactions with movies? The function should take a user ID as input and return a dictionary where each key is the movie name and the corresponding value is a dictionary containing all features associated with that movie for the specified user. The features should include rating, times watched, watched on date, and any other relevant information. Please ensure that the data is sorted by the watched on date in descending order.\""
   ]
  },
  {
   "cell_type": "code",
   "execution_count": 89,
   "id": "a0478ef3-ddbe-45a5-aea5-b9653b6efd6b",
   "metadata": {},
   "outputs": [],
   "source": [
    "def step_4():\n",
    "    return f\"Given tour previous responses in chronocological order: {msg_11}, {msg_22}, {msg_33}, tou should use the function to gether all user data and Then we need to create a function that splits a dictionary containing data into training and test sets based on a given train ratio? The function should take the data dictionary and the train ratio as input parameters. It should then split the data such that the training set contains the specified ratio of the data, and the test set contains the remaining data. Additionally, please calculate the index up to which the training data extends and return it along with the training and test sets.\""
   ]
  },
  {
   "cell_type": "code",
   "execution_count": 35,
   "id": "6b020775-7216-4e24-ac83-2076761193b4",
   "metadata": {},
   "outputs": [
    {
     "data": {
      "text/markdown": [
       "<div style='color: #34568B;'>\n",
       "\n",
       "---\n",
       "\n",
       "```python\n",
       "# To generate a synthetic dataset of user interactions with movies, we can use the Pandas library in Python. You'll first need to make sure you have pandas and numpy installed in your Python environment. You can install them using pip if you haven't done so yet:\n",
       "# pip install pandas numpy\n",
       "\n",
       "import pandas as pd\n",
       "import numpy as np\n",
       "from datetime import timedelta, datetime\n",
       "\n",
       "def generate_user_interactions(movie_df, num_users=100, rating_range=(1, 5), max_watches_per_movie=10, date_range=(\"2020-01-01\", \"2023-01-01\")):\n",
       "    # Generate user IDs\n",
       "    user_ids = np.arange(1, num_users + 1)\n",
       "    \n",
       "    # Initialize an empty list to store user interactions\n",
       "    interactions = []\n",
       "    \n",
       "    # Define the date range\n",
       "    start_date = np.datetime64(date_range[0], 'D')\n",
       "    end_date = np.datetime64(date_range[1], 'D')\n",
       "    days = (end_date - start_date).astype(int)\n",
       "    \n",
       "    # Generate synthetic data\n",
       "    for user_id in user_ids:\n",
       "        # Randomly select a subset of movies for each user\n",
       "        user_movie_sample = movie_df.sample(n=np.random.randint(1, len(movie_df)), replace=False)\n",
       "        \n",
       "        for _, movie in user_movie_sample.iterrows():\n",
       "            movie_name = movie['Movie Name']\n",
       "            num_watches = np.random.randint(1, max_watches_per_movie + 1)\n",
       "            \n",
       "            for _ in range(num_watches):\n",
       "                date_watched = start_date + np.random.randint(days)\n",
       "                rating = round(np.random.uniform(*rating_range), 1)\n",
       "                \n",
       "                interactions.append({\n",
       "                    'User ID': user_id,\n",
       "                    'Movie Name': movie_name,\n",
       "                    'Rating': rating,\n",
       "                    'Date Watched': date_watched\n",
       "                })\n",
       "    \n",
       "    # Convert the list of dicts into a DataFrame\n",
       "    interactions_df = pd.DataFrame(interactions)\n",
       "    \n",
       "    # Calculate the number of times each movie was watched\n",
       "    watches_count = interactions_df.groupby('Movie Name').size().reset_index(name='Watches')\n",
       "    interactions_df = interactions_df.merge(watches_count, on='Movie Name', how='left')\n",
       "    \n",
       "    return interactions_df\n",
       "\n",
       "# Ensure that your movie_df DataFrame contains at least one column named 'Movie Name' with the names of the movies before passing it to this function. This function creates synthetic user interaction data with specified boundaries, adding variability in user interactions for more realistic testing of recommendation systems or other analysis tasks.\n",
       "# Example usage:\n",
       "# Assuming you have a movie_df DataFrame with a column 'Movie Name'\n",
       "# movie_df = pd.DataFrame({'Movie Name': ['Movie A', 'Movie B', ...]})\n",
       "# interactions_df = generate_user_interactions(movie_df, num_users=100)\n",
       "```\n",
       "\n",
       "---"
      ],
      "text/plain": [
       "<IPython.core.display.Markdown object>"
      ]
     },
     "metadata": {},
     "output_type": "display_data"
    }
   ],
   "source": [
    "prompt1 = step_1()\n",
    "msg_1 = get_resp_oai(prompt1,\"gpt-4-0125-preview\")\n",
    "prompt11 = formatter(msg_1)\n",
    "msg_11 = get_resp_oai(prompt11,\"gpt-4-0125-preview\")\n",
    "display(Markdown(\"<div style='color: #34568B;'>\\n\\n\" + msg_11))"
   ]
  },
  {
   "cell_type": "code",
   "execution_count": 37,
   "id": "8b81ac2d-b707-4041-a8af-65481cb70544",
   "metadata": {},
   "outputs": [],
   "source": [
    "exec(msg_11[len(\"---\\n\\n```python\\n\"):len(msg_11)-len(\"\\n```\\n\\n---\")])"
   ]
  },
  {
   "cell_type": "code",
   "execution_count": 54,
   "id": "d80f6843-672f-4670-9616-77454d643599",
   "metadata": {},
   "outputs": [
    {
     "data": {
      "text/markdown": [
       "<div style='color: #34568B;'>\n",
       "\n",
       "---\n",
       "\n",
       "```python\n",
       "# To merge the user interactions dataset generated using the `generate_user_interactions` function with additional information about each movie, such as genre and release year from a CSV file (`movies.csv`), you'll first need to load the `movies.csv` file into a DataFrame. Then, you can perform a merge operation based on the movie titles. Here's how you can do this:\n",
       "\n",
       "import pandas as pd\n",
       "\n",
       "# Load the movie details dataset\n",
       "movies_df = pd.read_csv('./movies.csv')\n",
       "\n",
       "# Assume movie_df is derived from the movies_df for generating user interactions\n",
       "# Make sure to adjust according to the actual column name in movies.csv for movie titles.\n",
       "movie_df = movies_df[['Movie Name']]\n",
       "\n",
       "# Generate user interactions dataset as previously described\n",
       "interactions_df = generate_user_interactions(movie_df, num_users=100)\n",
       "\n",
       "# Merge the interactions dataset with the movies dataset to include additional movie details like genres, release year, etc.\n",
       "# Ensure the merge operation is based on the 'Movie Name' or the corresponding column title used for movie titles in movies.csv.\n",
       "# Adjust 'Movie Name' in the merge function according to the actual column names.\n",
       "merged_df = interactions_df.merge(movies_df, on='Movie Name', how='left')\n",
       "\n",
       "# Now merged_df contains user interactions along with additional movie details.\n",
       "print(merged_df.head())\n",
       "\n",
       "# Important Notes:\n",
       "# 1. **Consistency in Movie Titles:** Before performing the merge, you might want to clean and ensure consistency in movie titles across both DataFrames to avoid mismatches during the merge operation.\n",
       "# 2. **Column Names:** The example uses 'Movie Name' as the key for the merge. If your 'movies.csv' file uses a different column name for movie titles, you'll need to adjust the merge function accordingly.\n",
       "# 3. **Data Cleaning:** It's always a good practice to clean and preprocess your data (e.g., handling missing values, standardizing formats) before merging to ensure the integrity of the merged dataset.\n",
       "```\n",
       "\n",
       "---"
      ],
      "text/plain": [
       "<IPython.core.display.Markdown object>"
      ]
     },
     "metadata": {},
     "output_type": "display_data"
    }
   ],
   "source": [
    "prompt2 = step_2()\n",
    "msg_2 = get_resp_oai(prompt2,\"gpt-4-0125-preview\")\n",
    "prompt22 = formatter(msg_2)\n",
    "msg_22 = get_resp_oai(prompt22,\"gpt-4-0125-preview\")\n",
    "display(Markdown(\"<div style='color: #34568B;'>\\n\\n\" + msg_22))"
   ]
  },
  {
   "cell_type": "code",
   "execution_count": 117,
   "id": "08be75bb-5cbd-4347-907d-2f4e956953a8",
   "metadata": {},
   "outputs": [
    {
     "name": "stdout",
     "output_type": "stream",
     "text": [
      "   User ID               Movie Name  Rating Date Watched  Watches rating  \\\n",
      "0        1  The Flower of My Secret     4.0   2020-03-26      286      R   \n",
      "1        1  The Flower of My Secret     2.5   2022-05-22      286      R   \n",
      "2        1  The Flower of My Secret     4.0   2022-12-22      286      R   \n",
      "3        1  The Flower of My Secret     4.3   2021-05-26      286      R   \n",
      "4        1  The Flower of My Secret     1.7   2020-02-08      286      R   \n",
      "\n",
      "    genre  year                       released  score    votes  \\\n",
      "0  Comedy  1995  March 8, 1996 (United States)    7.0  11000.0   \n",
      "1  Comedy  1995  March 8, 1996 (United States)    7.0  11000.0   \n",
      "2  Comedy  1995  March 8, 1996 (United States)    7.0  11000.0   \n",
      "3  Comedy  1995  March 8, 1996 (United States)    7.0  11000.0   \n",
      "4  Comedy  1995  March 8, 1996 (United States)    7.0  11000.0   \n",
      "\n",
      "          director           writer            star country  budget  \\\n",
      "0  Pedro Almodóvar  Pedro Almodóvar  Marisa Paredes   Spain     NaN   \n",
      "1  Pedro Almodóvar  Pedro Almodóvar  Marisa Paredes   Spain     NaN   \n",
      "2  Pedro Almodóvar  Pedro Almodóvar  Marisa Paredes   Spain     NaN   \n",
      "3  Pedro Almodóvar  Pedro Almodóvar  Marisa Paredes   Spain     NaN   \n",
      "4  Pedro Almodóvar  Pedro Almodóvar  Marisa Paredes   Spain     NaN   \n",
      "\n",
      "       gross    company  runtime  \n",
      "0  1104622.0  CiBy 2000    103.0  \n",
      "1  1104622.0  CiBy 2000    103.0  \n",
      "2  1104622.0  CiBy 2000    103.0  \n",
      "3  1104622.0  CiBy 2000    103.0  \n",
      "4  1104622.0  CiBy 2000    103.0  \n"
     ]
    }
   ],
   "source": [
    "exec(msg_22[len(\"---\\n\\n```python\\n\"):len(msg_22)-len(\"\\n```\\n\\n---\")].replace(\"movies_df = pd.read_csv('./movies.csv')\",\"movies_df = pd.read_csv('./movies.csv').rename(columns={'name':'Movie Name'})\"))\n",
    "     "
   ]
  },
  {
   "cell_type": "code",
   "execution_count": 84,
   "id": "2ca4e3bf-ac2d-4004-bc50-63b6c79087fc",
   "metadata": {},
   "outputs": [
    {
     "data": {
      "text/markdown": [
       "<div style='color: #34568B;'>\n",
       "\n",
       "---\n",
       "\n",
       "```python\n",
       "# To create a function that meets your requirements, you'll need to follow these steps:\n",
       "#\n",
       "# 1. Filter the merged DataFrame `merged_df` for the specified user ID.\n",
       "# 2. Sort the data based on the 'watched on date' in descending order.\n",
       "# 3. Construct a dictionary where each key is the movie name, and the value is another dictionary containing all relevant movie features for this user.\n",
       "#\n",
       "# Let's assume your merged DataFrame `merged_df` contains columns like `User ID`, `Movie Name`, `Rating`, `Times Watched`, and `Watched On` (with dates). Here is how you can implement this function:\n",
       "\n",
       "def retrieve_user_data(user_id, interactions_df):\n",
       "    \"\"\"\n",
       "    Retrieves all movie interaction data for a specified user ID.\n",
       "    \n",
       "    Args:\n",
       "    - user_id (int): The ID of the user.\n",
       "    - interactions_df (pd.DataFrame): The DataFrame containing user interactions with movies.\n",
       "    \n",
       "    Returns:\n",
       "    - dict: A dictionary where keys are movie names and values are dictionaries of movie features.\n",
       "    \"\"\"\n",
       "\n",
       "    # Filter the DataFrame for the specified user ID\n",
       "    user_data = interactions_df[interactions_df['User ID'] == user_id]\n",
       "    \n",
       "    # Sort the data by 'Watched On' in descending order\n",
       "    user_data_sorted = user_data.sort_values(by='Watched On', ascending=False)\n",
       "    \n",
       "    # Initialize an empty dictionary to hold the movie data\n",
       "    user_movies = {}\n",
       "    \n",
       "    # Loop through the DataFrame and populate the dictionary\n",
       "    for index, row in user_data_sorted.iterrows():\n",
       "        movie_name = row['Movie Name']\n",
       "        # Assume all relevant columns you want to include are known\n",
       "        movie_info = {\n",
       "            'Rating': row['Rating'],\n",
       "            'Times Watched': row['Times Watched'],\n",
       "            'Watched On': row['Watched On'],\n",
       "            # Add other relevant features here\n",
       "        }\n",
       "        \n",
       "        # Add movie data to the user_movies dictionary\n",
       "        user_movies[movie_name] = movie_info\n",
       "        \n",
       "    return user_movies\n",
       "\n",
       "# Example usage\n",
       "# user_id = 1\n",
       "# user_movies_data = retrieve_user_data(user_id, merged_df)\n",
       "# print(user_movies_data)\n",
       "\n",
       "# This function assumes your DataFrame is named `merged_df` and includes a simplistic representation of your data schema. Make sure you adjust the column names accordingly, such as `Rating`, `Times Watched`, and `Watched On`, to match the exact column names in your `merged_df`.\n",
       "\n",
       "```\n",
       "\n",
       "---"
      ],
      "text/plain": [
       "<IPython.core.display.Markdown object>"
      ]
     },
     "metadata": {},
     "output_type": "display_data"
    }
   ],
   "source": [
    "prompt3 = step_3()\n",
    "msg_3 = get_resp_oai(prompt3,\"gpt-4-0125-preview\")\n",
    "prompt33 = formatter(msg_3)\n",
    "msg_33 = get_resp_oai(prompt33,\"gpt-4-0125-preview\")\n",
    "display(Markdown(\"<div style='color: #34568B;'>\\n\\n\" + msg_33))"
   ]
  },
  {
   "cell_type": "code",
   "execution_count": 136,
   "id": "cea37856-a741-49d2-94ff-3d9eadaaaabe",
   "metadata": {},
   "outputs": [],
   "source": [
    "exec(msg_33[len(\"---\\n\\n```python\\n\"):len(msg_33)-len(\"\\n```\\n\\n---\")].replace(\"Watched On\", \"Date Watched\").replace(\"Times Watched\", \"Watches\"))"
   ]
  },
  {
   "cell_type": "code",
   "execution_count": 92,
   "id": "9fcb2ca9-5442-4148-9056-77fa2f78bbe7",
   "metadata": {},
   "outputs": [
    {
     "data": {
      "text/markdown": [
       "<div style='color: #34568B;'>\n",
       "\n",
       "---\n",
       "\n",
       "Certainly! Here's how you can transform the provided string into an executable string with the Python code extracted and the rest of the information as comments:\n",
       "\n",
       "```python\n",
       "# Based on your request, I will use the information provided in the previous steps to create a function that splits the user movie data dictionary into training and test sets based on a given train ratio. Following this, I'll calculate the index up to which the training data extends. Here's how you can implement such a function in Python:\n",
       "\n",
       "def split_data(data_dict, train_ratio):\n",
       "    \"\"\"\n",
       "    Splits the user movies data dictionary into training and test sets based on the given train ratio.\n",
       "\n",
       "    Args:\n",
       "    - data_dict (dict): The dictionary containing user movies data with each key being a movie name and its value being another dictionary of movie features.\n",
       "    - train_ratio (float): The ratio of data to be included in the training set.\n",
       "\n",
       "    Returns:\n",
       "    - tuple: A tuple containing the training set as the first element, the test set as the second element, and the index up until which the training data extends.\n",
       "    \"\"\"\n",
       "    # Calculate the number of items to include in the training data\n",
       "    total_items = len(data_dict)\n",
       "    train_size = int(total_items * train_ratio)\n",
       "\n",
       "    # Split the dictionary into training and test sets\n",
       "    train_data = dict(list(data_dict.items())[:train_size])\n",
       "    test_data = dict(list(data_dict.items())[train_size:])\n",
       "\n",
       "    return train_data, test_data, train_size\n",
       "\n",
       "# Example usage\n",
       "# Assume data_dict is your user movie data dictionary\n",
       "# Assume train_ratio is 0.8 for an 80-20 split\n",
       "# data_dict = user_movies_data  # From your retrieval function\n",
       "# train_ratio = 0.8\n",
       "\n",
       "# train_data, test_data, train_size = split_data(data_dict, train_ratio)\n",
       "# print(f\"Training Data size: {len(train_data)}, Test Data size: {len(test_data)}\")\n",
       "# print(\"Training Data Extends Up To Index:\", train_size)\n",
       "\n",
       "# This function calculates the number of entries to include in the training data based on the specified ratio, then it splits the original data dictionary into training and test sets accordingly. The size of the training data is also returned, which corresponds to the index up to which the training data extends in the original dataset. Please ensure to replace `user_movies_data` with your actual dictionary containing user movie data before running the example usage.\n",
       "```\n",
       "\n",
       "This string can now be directly executed in a Python environment with the function definition and the instructional comments preserved.\n",
       "\n",
       "---"
      ],
      "text/plain": [
       "<IPython.core.display.Markdown object>"
      ]
     },
     "metadata": {},
     "output_type": "display_data"
    }
   ],
   "source": [
    "prompt4 = step_4()\n",
    "msg_4 = get_resp_oai(prompt4,\"gpt-4-0125-preview\")\n",
    "prompt44 = formatter(msg_4)\n",
    "msg_44 = get_resp_oai(prompt44,\"gpt-4-0125-preview\")\n",
    "display(Markdown(\"<div style='color: #34568B;'>\\n\\n\" + msg_44))"
   ]
  },
  {
   "cell_type": "code",
   "execution_count": 127,
   "id": "489e842e-23c9-4101-9cc8-db92815e3012",
   "metadata": {},
   "outputs": [],
   "source": [
    "exec(msg_44[178:len(msg_44)-146])"
   ]
  },
  {
   "cell_type": "markdown",
   "id": "8fbbb377-118b-4fb2-a7fb-735d6a182fb3",
   "metadata": {},
   "source": [
    "Zero-Shot Chain of Thought Prompts"
   ]
  },
  {
   "cell_type": "code",
   "execution_count": 114,
   "id": "e042017c-b5ce-40d9-a3c0-7a6394b63131",
   "metadata": {},
   "outputs": [],
   "source": [
    "def cot_0shotA():\n",
    "    prompt = f\"\"\"\n",
    "    Given all the previous prompts and responses in chronologicall order : [{prompt1} : {msg_11}, {prompt2} : {msg_22}, {prompt3} : {msg_33}, {prompt4} : {msg_44}]\n",
    "    Retrieve User Data: by using one the functions defined in the earlier responses and considered the merged dataset called merged_df. This function should retrieve all data associated with a specific user ID from a dataset containing user interactions with movies. Ensure that the data is sorted by the watched on date in descending order.\n",
    "    Split Data for Training and Testing: Next, use another function defined in the earlier prompts a. This function should split the user data dictionary into training and test sets based on a given train ratio. Return the training set, test set, and the split index.\n",
    "    Define Variables: Once the data is split, assign the training set to a variable named 'train', the test set to 'test', and store the split index in a variable named 'i'. Set 'historical_interactions' as equal to 'train', and extract the most recently interacted movie from 'train' using the split index, assigning it to 'most_recent_interacted_movie'.\n",
    "    \"\"\"\n",
    "    return prompt "
   ]
  },
  {
   "cell_type": "code",
   "execution_count": 115,
   "id": "fc4536ff-4e4a-4278-bf9a-fec6fe0f631c",
   "metadata": {},
   "outputs": [
    {
     "data": {
      "text/markdown": [
       "<div style='color: #34568B;'>\n",
       "\n",
       "---\n",
       "\n",
       "```python\n",
       "# The steps provided outline a process involving data retrieval and manipulation using designed functions from previous responses. Below is the code that follows these instructions:\n",
       "#\n",
       "# 1. **Retrieve User Data:** Use the function defined earlier to retrieve data for a specific user ID from `merged_df`.\n",
       "# 2. **Split Data for Training and Testing:** Use another previously defined function to split the data into training and test sets.\n",
       "# 3. **Define Variables:** Assign variables as instructed.\n",
       "#\n",
       "# To execute these steps, ensure you have the `merged_df` DataFrame available as a result of merging user interactions and movies datasets, as well as the earlier defined `retrieve_user_data` and `split_data` functions.\n",
       "\n",
       "# Assuming merged_df is already defined and loaded as per previous instructions\n",
       "\n",
       "# Step 1: Retrieve User Data for a specific user ID\n",
       "user_id_example = 1  # Use an example User ID, change this according to your dataset's IDs\n",
       "user_movies_data = retrieve_user_data(user_id_example, merged_df)\n",
       "\n",
       "# Step 2: Split Data into Training and Test sets\n",
       "train_ratio_example = 0.8  # Define an example train ratio\n",
       "train, test, i = split_data(user_movies_data, train_ratio_example)\n",
       "\n",
       "# Step 3: Define Variables as described\n",
       "historical_interactions = train\n",
       "most_recent_interacted_movie = list(historical_interactions.items())[i-1]  # Assuming the dict is sorted by watched date\n",
       "\n",
       "# Print to show that variables are set accordingly\n",
       "print(\"Training Data:\", len(train))\n",
       "print(\"Test Data:\", len(test))\n",
       "print(\"Split Index:\", i)\n",
       "print(\"Most Recently Interacted Movie:\", most_recent_interacted_movie)\n",
       "\n",
       "# This code assumes:\n",
       "# - The `merged_df` DataFrame is already created and contains user interactions merged with movie details.\n",
       "# - The functions `retrieve_user_data(user_id, interactions_df)` and `split_data(data_dict, train_ratio)` are defined as prescribed in the previous responses.\n",
       "# - Adjust `user_id_example` to match an actual user ID from your dataset.\n",
       "# - The `train_ratio_example` is adjustable based on the desired training-testing split ratio.\n",
       "#\n",
       "# Ensure the code snippet is run in an environment where `merged_df` and the necessary functions are previously defined. Adjust the user ID and train ratio as needed.\n",
       "```\n",
       "\n",
       "---"
      ],
      "text/plain": [
       "<IPython.core.display.Markdown object>"
      ]
     },
     "metadata": {},
     "output_type": "display_data"
    }
   ],
   "source": [
    "prompt5 = cot_0shotA()\n",
    "msg_5 = get_resp_oai(prompt5,\"gpt-4-0125-preview\")\n",
    "prompt55 = formatter(msg_5)\n",
    "msg_55 = get_resp_oai(prompt55,\"gpt-4-0125-preview\")\n",
    "display(Markdown(\"<div style='color: #34568B;'>\\n\\n\" + msg_55))"
   ]
  },
  {
   "cell_type": "code",
   "execution_count": 137,
   "id": "d4806751-df70-4156-9c8f-49df67da5941",
   "metadata": {},
   "outputs": [
    {
     "name": "stdout",
     "output_type": "stream",
     "text": [
      "Training Data: 5912\n",
      "Test Data: 1479\n",
      "Split Index: 5912\n",
      "Most Recently Interacted Movie: ('The Blues Brothers', {'Rating': 2.4, 'Watches': 275, 'Date Watched': Timestamp('2020-04-12 00:00:00')})\n"
     ]
    }
   ],
   "source": [
    "exec(msg_55[len(\"---\\n\\n```python\\n\"):len(msg_55)-len(\"\\n```\\n\\n---\")])"
   ]
  },
  {
   "cell_type": "code",
   "execution_count": 165,
   "id": "db3a5ad5-2d10-4043-883b-810470c74a83",
   "metadata": {},
   "outputs": [],
   "source": [
    "def cot_0shotB():\n",
    "    candidate_movies = top_50_best_movies\n",
    "    sorted_interactions = sorted(historical_interactions.items(), key=lambda x: x[1]['Date Watched'])\n",
    "    # Retrieve the 50 most recent interactions\n",
    "    most_recent_50_interactions = dict(sorted_truncations[:50])\n",
    "    prompt = F\"\"\"\n",
    "    Initial Context:\n",
    "    \"I've watched the following movies in the past in order: {most_recent_50_interactions}.\"\n",
    "    \"Note that my most recently watched movie is {most_recent_interacted_movie}.\"\n",
    "    Candidate Movies:\n",
    "    \"Now there are 50 candidate movies that I can watch next: {candidate_movies}.\"\n",
    "    Task Description:\n",
    "    \"Please rank the top {len(test)} movies by measuring the possibilities that I would like to watch next most, according to my watching history.\"\n",
    "    Instructions:\n",
    "    \"Please think step by step.\"\n",
    "    \"Please show me your ranking results with order numbers.\"\n",
    "    \"Split your output with line breaks.\"\n",
    "    \"You MUST rank the given candidate movies.\"\n",
    "    \"You can not generate movies that are not in the given candidate list.\"\n",
    "    Output Format:\n",
    "    \"Please provide the list in a JSON format where the keys are the rankings and the values are the movie names.\"\n",
    "    \"\"\"\n",
    "    return prompt"
   ]
  },
  {
   "cell_type": "code",
   "execution_count": 168,
   "id": "2b4af177-06fa-4b67-99d2-a19d0c5f174a",
   "metadata": {},
   "outputs": [
    {
     "data": {
      "text/markdown": [
       "<div style='color: #34568B;'>\n",
       "\n",
       "---\n",
       "\n",
       "Certainly! Here's how you can transform the provided text into an executable string with Python code and comments:\n",
       "\n",
       "```python\n",
       "# To determine the ranking of the candidate movies you might like to watch next, I'll analyze your watching history to identify preferences in genres, ratings, and directors, which seem to influence your choices heavily. Given that the historical data shows a mix of genres but with certain movies and directors appearing more than once with high ratings, I'd prioritize those factors in making recommendations. \n",
       "# \n",
       "# Without specific user interaction data on the candidates (e.g., whether action movies are preferred over drama, or if a higher score has more impact on choice than the director's popularity), recommendations are generalized based on apparent patterns in the provided viewing history and the attributes of the candidate movies.\n",
       "# \n",
       "# 1. Analyzing the historical data, it seems high-rated movies and certain directors (like Christopher Nolan) are recurrently explored.\n",
       "# 2. The mixture of genres in your history suggests a broad but discerning taste, favoring highly acclaimed movies regardless of their genre.\n",
       "# \n",
       "# Assuming an algorithm that weighs:\n",
       "# \n",
       "# - Similarity in genre to previously highly-rated movies.\n",
       "# - Directors repeated in your history or known for critical acclaim.\n",
       "# - High scores as an indicating factor of wide acceptance and potentially aligning with your tastes.\n",
       "# \n",
       "# Here are the results formatted as requested:\n",
       "\n",
       "movies_ranking = {\n",
       "  \"1\": \"The Dark Knight\",\n",
       "  \"2\": \"Inception\",\n",
       "  \"3\": \"The Shawshank Redemption\",\n",
       "  \"4\": \"Pulp Fiction\",\n",
       "  \"5\": \"The Prestige\",\n",
       "  \"6\": \"Interstellar\",\n",
       "  \"7\": \"The Lord of the Rings: The Return of the King\",\n",
       "  \"8\": \"The Lord of the Rings: The Fellowship of the Ring\",\n",
       "  \"9\": \"The Lord of the Rings: The Two Towers\",\n",
       "  \"10\": \"Fight Club\",\n",
       "  \"11\": \"The Matrix\",\n",
       "  \"12\": \"Se7en\",\n",
       "  \"13\": \"The Dark Knight Rises\",\n",
       "  \"14\": \"Forrest Gump\",\n",
       "  \"15\": \"Gladiator\",\n",
       "  \"16\": \"Saving Private Ryan\",\n",
       "  \"17\": \"Schindler's List\",\n",
       "  \"18\": \"Memento\",\n",
       "  \"19\": \"The Silence of the Lambs\",\n",
       "  \"20\": \"The Departed\"\n",
       "  # Note: Only top 20 movies are considered executable based on user request. Remaining are excluded for brevity.\n",
       "}\n",
       "\n",
       "# It's important to note that this ranking is highly speculative and should be taken as a suggestion rather than a definitive forecast of your preferences. It leverages visible trends in your provided watch history and how they might intersect with the characteristics of the candidate movies.\n",
       "```\n",
       "\n",
       "The executable part is the creation of the dictionary `movies_ranking`, which stores the top 20 movie recommendations based on the user's presumed preferences. The rest of the text is commented out to provide context without interfering with the code execution.\n",
       "\n",
       "---"
      ],
      "text/plain": [
       "<IPython.core.display.Markdown object>"
      ]
     },
     "metadata": {},
     "output_type": "display_data"
    }
   ],
   "source": [
    "prompt6 = cot_0shotB()\n",
    "msg_6 = get_resp_oai(prompt6,\"gpt-4-0125-preview\")\n",
    "prompt66 = formatter(msg_6)\n",
    "msg_66 = get_resp_oai(prompt66,\"gpt-4-0125-preview\")\n",
    "display(Markdown(\"<div style='color: #34568B;'>\\n\\n\" + msg_66))"
   ]
  },
  {
   "cell_type": "markdown",
   "id": "ac8fcb99-1017-4f38-9286-ddbd86fce5d2",
   "metadata": {},
   "source": [
    "Evaluation "
   ]
  },
  {
   "cell_type": "code",
   "execution_count": 169,
   "id": "adfd7e1f-0a32-4a1b-9755-38f56abf3a5e",
   "metadata": {},
   "outputs": [],
   "source": [
    "# Define function to calculate Recall@k\n",
    "def recall_at_k(actual, predicted, k):\n",
    "    actual_set = set(actual)\n",
    "    predicted_set = set(predicted[:k])\n",
    "    intersection = actual_set.intersection(predicted_set)\n",
    "    recall = len(intersection) / len(actual_set)\n",
    "    return recall\n",
    "\n",
    "# Define function to calculate Discounted Cumulated Gain (DCG) at k\n",
    "def dcg_at_k(actual, predicted, k):\n",
    "    dcg = 0\n",
    "    for i in range(min(k, len(predicted))):\n",
    "        if predicted[i] in actual:\n",
    "            dcg += 1 / np.log2(i + 2)  # Rank starts from 1, hence i + 2\n",
    "    return dcg\n",
    "\n",
    "# Define function to calculate Ideal Discounted Cumulated Gain (IDCG) at k\n",
    "def idcg_at_k(actual, k):\n",
    "    idcg = sum(1 / np.log2(i + 2) for i in range(min(k, len(actual))))\n",
    "    return idcg\n",
    "\n",
    "# Define function to calculate Normalized Discounted Cumulated Gain (NDCG) at k\n",
    "def ndcg_at_k(actual, predicted, k):\n",
    "    dcg = dcg_at_k(actual, predicted, k)\n",
    "    idcg = idcg_at_k(actual, k)\n",
    "    if idcg == 0:\n",
    "        return 0\n",
    "    else:\n",
    "        return dcg / idcg\n",
    "\n",
    "# Repeat experiments and calculate average metrics\n",
    "def evaluate_metrics(actual, predicted, k_values=[1, 10, 20], num_experiments=1):\n",
    "    recall_results = []\n",
    "    ndcg_results = {k: [] for k in k_values}\n",
    "    \n",
    "    # for _ in range(num_experiments):\n",
    "    recall_experiment = []\n",
    "    ndcg_experiment = {k: [] for k in k_values}\n",
    "    \n",
    "    # for k in k_values:\n",
    "    recall_experiment.append(recall_at_k(actual, predicted,20))\n",
    "    for k_value in k_values:\n",
    "        ndcg_experiment[k_value].append(ndcg_at_k(actual, predicted, k_value))\n",
    "    \n",
    "    recall_results.append(recall_experiment)\n",
    "    for k in k_values:\n",
    "        ndcg_results[k].append(ndcg_experiment[k])\n",
    "    \n",
    "    # Calculate average metrics\n",
    "    avg_recall = np.mean(recall_results, axis=0)\n",
    "    avg_ndcg = {k: np.mean(ndcg_results[k], axis=0) for k in k_values}\n",
    "    \n",
    "    return avg_recall, avg_ndcg"
   ]
  },
  {
   "cell_type": "code",
   "execution_count": 181,
   "id": "713c0d9b-2d66-4da9-b7b2-aa5560ca1640",
   "metadata": {},
   "outputs": [],
   "source": [
    "# helper functions\n",
    "def extract_json_from_string(input_string):\n",
    "    # Use regular expression to find the JSON part\n",
    "    json_match = re.search(r'```json\\n\\{(?:.|\\n)*?\\}\\n```', input_string)\n",
    "    if json_match:\n",
    "        json_string = json_match.group(0)\n",
    "        return json_string\n",
    "    else:\n",
    "        return None\n",
    "\n",
    "def string_to_dictionary(json_string):\n",
    "    # Remove leading and trailing whitespace, as well as newlines\n",
    "    json_string = json_string.strip()\n",
    "\n",
    "    # Remove '```json' if present\n",
    "    if json_string.startswith('```json'):\n",
    "        json_string = json_string[len('```json'):]\n",
    "\n",
    "    # Remove '```' if present\n",
    "    if json_string.endswith('```'):\n",
    "        json_string = json_string[:-len('```')]\n",
    "\n",
    "    # Parse the JSON string into a dictionary\n",
    "    try:\n",
    "        dictionary = json.loads(json_string)\n",
    "        return dictionary\n",
    "    except json.JSONDecodeError:\n",
    "        print(\"Error: Unable to decode JSON string.\")\n",
    "        return None\n",
    "        \n",
    "def extract_movie_names(data_dict):\n",
    "    movie_names = [entry for entry in data_dict.keys()]\n",
    "    return movie_names"
   ]
  },
  {
   "cell_type": "code",
   "execution_count": 183,
   "id": "727d125a-233c-4053-b73c-3efe74d3a315",
   "metadata": {},
   "outputs": [
    {
     "name": "stdout",
     "output_type": "stream",
     "text": [
      "Average Recall@k: [0.0020284]\n",
      "Average NDCG@k:\n",
      "NDCG@1: [0.]\n",
      "NDCG@10: [0.18340981]\n",
      "NDCG@20: [0.15070499]\n"
     ]
    }
   ],
   "source": [
    "# Example usage\n",
    "# actual = [\"Titanic\", \"Forrest Gump\", \"Gladiator\", \"Schindler's List\", \"Braveheart\", \"The Sixth Sense\", \"The Dark Knight\"]\n",
    "# predicted = [\"The Shawshank Redemption\", \"The Godfather\", \"The Dark Knight\", \"Pulp Fiction\", \"Fight Club\", \"The Lord of the Rings: The Fellowship of the Ring\", \"The Matrix\", \"Goodfellas\", \"Inception\", \"Saving Private Ryan\", \"The Silence of the Lambs\", \"The Green Mile\", \"Se7en\", \"The Lion King\", \"The Sixth Sense\", \"American History X\", \"The Prestige\", \"The Departed\", \"Eternal Sunshine of the Spotless Mind\", \"A Beautiful Mind\"]\n",
    "actual = extract_movie_names(test)\n",
    "predicted = extract_json_from_string(msg_6)\n",
    "predicted = string_to_dictionary(predicted)\n",
    "predicted = list(predicted.values())\n",
    "avg_recall, avg_ndcg = evaluate_metrics(actual, predicted)\n",
    "\n",
    "print(\"Average Recall@k:\", avg_recall)\n",
    "print(\"Average NDCG@k:\")\n",
    "for k, value in avg_ndcg.items():\n",
    "    print(f\"NDCG@{k}:\", value)"
   ]
  }
 ],
 "metadata": {
  "ai8-sym": {
   "notebook_id": "1f730c2b-4ef5-4999-a799-cbc0c85aef9b"
  },
  "kernelspec": {
   "display_name": "Python 3 (ipykernel)",
   "language": "python",
   "name": "python3"
  },
  "language_info": {
   "codemirror_mode": {
    "name": "ipython",
    "version": 3
   },
   "file_extension": ".py",
   "mimetype": "text/x-python",
   "name": "python",
   "nbconvert_exporter": "python",
   "pygments_lexer": "ipython3",
   "version": "3.11.6"
  }
 },
 "nbformat": 4,
 "nbformat_minor": 5
}
